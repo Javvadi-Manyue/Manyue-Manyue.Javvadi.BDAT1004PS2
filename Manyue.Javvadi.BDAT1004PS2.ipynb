{
 "cells": [
  {
   "cell_type": "markdown",
   "id": "5c0c3f63-5b51-4609-95e0-d263400b3849",
   "metadata": {},
   "source": [
    "**BDAT1004 - Problem Set 2   \n",
    "MANYUE JAVVADI 200575638**"
   ]
  },
  {
   "cell_type": "markdown",
   "id": "3a736f3d-550d-439c-bea2-1ee3091fcc4a",
   "metadata": {},
   "source": [
    "# Question 1\n",
    "<font color=\"#FF0000\">\n",
    "    \n",
    "***\n",
    "Consider the following Python module:\n",
    "\n",
    "a = 0\n",
    "\n",
    "def b():\n",
    "\n",
    "global a\n",
    "\n",
    "a = c(a)\n",
    " \n",
    "def c(a):\n",
    "\n",
    " return a + 2\n",
    " \n",
    "After importing the module into the interpreter, you execute:\n",
    "\n",
    "b()\n",
    "b()\n",
    "b()\n",
    "a\n",
    "?\n",
    "\n",
    "What value is displayed when the last expression (a) is evaluated? Explain your answer by indicating what happens in every executed statement\n",
    "***\n",
    "    \n",
    "</font>"
   ]
  },
  {
   "cell_type": "code",
   "execution_count": 1,
   "id": "662fa2e3-b4ee-4fdd-b4ed-6439fe34b111",
   "metadata": {
    "tags": []
   },
   "outputs": [],
   "source": [
    "# This statement initializes a global variable a with the value 0.\n",
    "a = 0 \n",
    "\n",
    "def b():\n",
    "    global a   # This statement declares that the variable \"a\" being referenced inside the function b() is a global variable\n",
    "    a = c(a)\n",
    "    \n",
    "def c(a):\n",
    "    return a + 2  #  This statement returns the value of a incremented by 2."
   ]
  },
  {
   "cell_type": "code",
   "execution_count": 2,
   "id": "a7714b89-e62e-4012-848d-fe71b85c8f5f",
   "metadata": {
    "tags": []
   },
   "outputs": [
    {
     "name": "stdout",
     "output_type": "stream",
     "text": [
      "None\n",
      "None\n",
      "None\n",
      "6\n"
     ]
    }
   ],
   "source": [
    "# let's see what happens when the function b() is called three times:\n",
    "print(b())      # 'a' is initially 0, 'c(0)' returns 2, so 'a' is updated to 2\n",
    "\n",
    "# let's Call the function 'b' for the second time\n",
    "print(b())      # 'a' is now 2, 'c(2)' returns 4, so 'a' is updated to 4\n",
    "\n",
    "# let's  Call the function 'b' for the third time\n",
    "print(b())      # 'a' is now 4, 'c(4)' returns 6, so 'a' is updated to 6\n",
    "\n",
    "# Evaluate the expression 'a' (display the value of 'a')\n",
    "print(a)\n",
    "\n",
    "# why we are getting None ?\n",
    "# becuase our function returns nothing so it just give None. \n"
   ]
  },
  {
   "cell_type": "markdown",
   "id": "d6f35fe8-f82e-415c-b4d9-64b7bc7e5d1e",
   "metadata": {},
   "source": [
    "# Question 2\n",
    "<font color=\"#FF0000\">\n",
    "    \n",
    "***\n",
    "Function fileLength(), given to you, takes the name of a file as input and returns the length of the file:\n",
    "\n",
    "fileLength('midterm.py')\n",
    "284\n",
    "\n",
    "fileLength('idterm.py')\n",
    "Traceback (most recent call last): File \"<pyshell#34>\", line 1, in\n",
    "\n",
    "fileLength('idterm.py')\n",
    "\n",
    "File \"/Users/me/midterm.py\", line 3, in fileLength infile = open(filename) FileNotFoundError: [Errno 2] No such file or directory: 'idterm.py'\n",
    "\n",
    "As shown above, if the file cannot be found by the interpreter or if it cannot be read as a text file, an exception will be raised. Modify function fileLength() so that a friendly message is printed instead:\n",
    "\n",
    "fileLength('midterm.py')\n",
    "358\n",
    "\n",
    "fileLength('idterm.py')\n",
    "File idterm.py not found.\n",
    "***\n",
    "    \n",
    "</font>"
   ]
  },
  {
   "cell_type": "code",
   "execution_count": 3,
   "id": "ba33e6e2-c630-4950-bee0-71cf175c45e2",
   "metadata": {
    "tags": []
   },
   "outputs": [
    {
     "name": "stdout",
     "output_type": "stream",
     "text": [
      "123\n",
      "102\n",
      "File idterm.py not found.\n"
     ]
    }
   ],
   "source": [
    "def fileLength(file_name):\n",
    "    try:\n",
    "        with open(file_name, 'r') as file:\n",
    "            contents = file.read()      # Read the contents of the file.\n",
    "            print(len(contents))       \n",
    "    except FileNotFoundError:\n",
    "        # handl's the FileNotFoundError exception.\n",
    "        print(f\"File {file_name} not found.\")\n",
    "    except:\n",
    "        # handle's it with a generic error message.\n",
    "        print(f\"An error occurred while reading {file_name}.\")\n",
    "\n",
    "# Test cases \n",
    "fileLength(r'D:\\Users\\manyue\\Downloads\\Filelength.txt')# Testing with a file that exists\n",
    "fileLength(r'D:\\Users\\manyue\\DataProgramming\\bloodtype1.txt')\n",
    "fileLength('idterm.py')    # Testing with a file that doesn't exist"
   ]
  },
  {
   "cell_type": "markdown",
   "id": "c49f10f6-722b-4b46-88de-0a4fcd7ddee4",
   "metadata": {},
   "source": [
    "# Question 3\n",
    "<font color=\"#FF0000\">\n",
    "    \n",
    "***\n",
    "Write a class named Marsupial that can be used as shown below:\n",
    "\n",
    "m = Marsupial()   \n",
    "m.put_in_pouch('doll')   \n",
    "m.put_in_pouch('firetruck')   \n",
    "m.put_in_pouch('kitten')   \n",
    "m.pouch_contents()   \n",
    "['doll', 'firetruck', 'kitten']    \n",
    "\n",
    "Now write a class named Kangaroo as a subclass of Marsupial that inherits all the attributes of Marsupial and also:\n",
    "\n",
    "a. extends the Marsupial init constructor to take, as input, the coordinates x and y of the Kangaroo object\n",
    "\n",
    "b. supports method jump that takes number values dx and dy as input and moves the kangaroo by dx units along the x-axis and by dy units along the y-axis, and\n",
    "\n",
    "c. overloads the str operator so it behaves as shown below.\n",
    "\n",
    "k = Kangaroo(0,0)\n",
    "print(k)\n",
    "I am a Kangaroo located at coordinates (0,0)\n",
    "\n",
    "k.put_in_pouch('doll')\n",
    "k.put_in_pouch('firetruck')\n",
    "k.put_in_pouch('kitten')\n",
    "k.pouch_contents()\n",
    "['doll', 'firetruck', 'kitten']\n",
    "\n",
    "k.jump(1,0)\n",
    "k.jump(1,0)\n",
    "k.jump(1,0)\n",
    "print(k)\n",
    "I am a Kangaroo located at coordinates (3,0)\n",
    "***\n",
    "    \n",
    "</font>"
   ]
  },
  {
   "cell_type": "code",
   "execution_count": 4,
   "id": "49a4d727-860f-488d-9063-82bcd2b292af",
   "metadata": {
    "tags": []
   },
   "outputs": [],
   "source": [
    "class Marsupial:\n",
    "    def __init__(self):\n",
    "        self.pouch = []      # Initialize an empty list 'pouch' to store items carried by the marsupial.\n",
    "    \n",
    "    # Method to put an 'item' in the pouch.\n",
    "    def put_in_pouch(self, item):\n",
    "        self.pouch.append(item)  # Add the 'item' to the pouch list.\n",
    "    \n",
    "    # Method to get the contents of the pouch.\n",
    "    def pouch_contents(self):\n",
    "        return self.pouch  # Return the contents of the pouch.\n",
    "\n",
    "# Define a subclass 'Kangaroo' that inherits from 'Marsupial'\n",
    "class Kangaroo(Marsupial):\n",
    "    def __init__(self, x=0, y=0):\n",
    "        # Call the constructor of the base class 'Marsupial'\n",
    "        super().__init__()\n",
    "        # Initialize 'x' and 'y' coordinates to represent the Kangaroo's location.\n",
    "        self.x = x\n",
    "        self.y = y\n",
    "    \n",
    "    # Method for the Kangaroo to jump by adjusting 'x' and 'y' coordinates.\n",
    "    def jump(self, dx, dy):\n",
    "        self.x += dx  # Adjust the 'x' coordinate by adding 'dx'.\n",
    "        self.y += dy  # Adjust the 'y' coordinate by adding 'dy'.\n",
    "    \n",
    "    # Define a custom string representation for Kangaroo objects.\n",
    "    def __str__(self):\n",
    "        return f\"I am a Kangaroo located at coordinates ({self.x},{self.y})\"\n"
   ]
  },
  {
   "cell_type": "code",
   "execution_count": 5,
   "id": "7a6c8738-3d0e-4d93-b4ed-739e901f7a4f",
   "metadata": {
    "tags": []
   },
   "outputs": [
    {
     "name": "stdout",
     "output_type": "stream",
     "text": [
      "['doll', 'firetruch', 'kitten']\n"
     ]
    }
   ],
   "source": [
    "m = Marsupial()\n",
    "m.put_in_pouch('doll')\n",
    "m.put_in_pouch('firetruch')\n",
    "m.put_in_pouch('kitten')\n",
    "print(m.pouch_contents())"
   ]
  },
  {
   "cell_type": "code",
   "execution_count": 6,
   "id": "5cf1f6dc-f5ac-4da7-8ceb-df9ca15f05d5",
   "metadata": {
    "tags": []
   },
   "outputs": [
    {
     "name": "stdout",
     "output_type": "stream",
     "text": [
      "I am a Kangaroo located at coordinates (0,0)\n"
     ]
    }
   ],
   "source": [
    "k = Kangaroo(0,0)\n",
    "print(k)"
   ]
  },
  {
   "cell_type": "code",
   "execution_count": 7,
   "id": "6ef61d75-c372-48c7-86e4-cadbdf1ab5fa",
   "metadata": {
    "tags": []
   },
   "outputs": [
    {
     "name": "stdout",
     "output_type": "stream",
     "text": [
      "['doll', 'firetruch', 'kitten']\n"
     ]
    }
   ],
   "source": [
    "k.put_in_pouch('doll')\n",
    "k.put_in_pouch('firetruch')\n",
    "k.put_in_pouch('kitten')\n",
    "print(k.pouch_contents())"
   ]
  },
  {
   "cell_type": "code",
   "execution_count": 8,
   "id": "fa3e43df-3e06-41b6-b0ee-af30c643af2b",
   "metadata": {
    "tags": []
   },
   "outputs": [
    {
     "name": "stdout",
     "output_type": "stream",
     "text": [
      "I am a Kangaroo located at coordinates (3,0)\n"
     ]
    }
   ],
   "source": [
    "k.jump(1,0)\n",
    "k.jump(1,0)\n",
    "k.jump(1,0)\n",
    "print(k)"
   ]
  },
  {
   "cell_type": "markdown",
   "id": "ada570c8-058c-4988-b444-255599940f8f",
   "metadata": {},
   "source": [
    "# Question 4\n",
    "<font color=\"#FF0000\">\n",
    "    \n",
    "***\n",
    "Write function collatz() that takes a positive integer x as input and prints the Collatz sequence starting at x. A Collatz sequence is obtained by repeatedly applying this rule to the previous number x in the sequence:\n",
    "\n",
    "x = {𝑥/2 𝑖𝑓 𝑥 𝑖𝑠 𝑒𝑣𝑒𝑛 3𝑥 + 1 𝑖𝑓 𝑥 𝑖𝑠 𝑜𝑑𝑑 Your function should stop when the sequence gets to number 1. Your implementation must be recursive, without any loops\n",
    "\n",
    "collatz(1)\n",
    "1\n",
    "\n",
    "collatz(10)\n",
    "10 5 16 8 4 2 1  \n",
    "***\n",
    "    \n",
    "</font>\n"
   ]
  },
  {
   "cell_type": "code",
   "execution_count": 9,
   "id": "75d3fb97-18fd-41de-99de-a741066dd995",
   "metadata": {
    "tags": []
   },
   "outputs": [],
   "source": [
    "def collatz(x):\n",
    "    print(x)  # Print the current value of 'x'.\n",
    "    if x == 1:  # Check if 'x' has reached the base case (1), and if so, terminate the function.\n",
    "        return\n",
    "    if x % 2 == 0:  # If 'x' is even, recursively call collatz with 'x' divided by 2.\n",
    "        collatz(x // 2)\n",
    "    else:  # If 'x' is odd, recursively call collatz with '3x + 1'.\n",
    "        collatz(3 * x + 1)\n"
   ]
  },
  {
   "cell_type": "code",
   "execution_count": 10,
   "id": "9fa91631-2df3-45f7-83b9-fd4cf792606a",
   "metadata": {
    "tags": []
   },
   "outputs": [
    {
     "name": "stdout",
     "output_type": "stream",
     "text": [
      "1\n"
     ]
    }
   ],
   "source": [
    "collatz(1)"
   ]
  },
  {
   "cell_type": "code",
   "execution_count": 11,
   "id": "af2a8222-cb21-4ff9-b263-75f7111e4bc7",
   "metadata": {
    "tags": []
   },
   "outputs": [
    {
     "name": "stdout",
     "output_type": "stream",
     "text": [
      "10\n",
      "5\n",
      "16\n",
      "8\n",
      "4\n",
      "2\n",
      "1\n"
     ]
    }
   ],
   "source": [
    "collatz(10)"
   ]
  },
  {
   "cell_type": "markdown",
   "id": "59d23cd7-8c2e-44e6-8eac-6bf9cab7d4c6",
   "metadata": {},
   "source": [
    "# Question 5\n",
    "<font color=\"#FF0000\">\n",
    "    \n",
    "***\n",
    "Write a recursive method binary() that takes a non-negative integer n and prints the binary representation of integer n.\n",
    "\n",
    "binary(0)\n",
    "0\n",
    "\n",
    "binary(1)\n",
    "1\n",
    "\n",
    "binary(3)\n",
    "11\n",
    "\n",
    "binary(9)\n",
    "1001   \n",
    "***\n",
    "    \n",
    "</font>\n"
   ]
  },
  {
   "cell_type": "code",
   "execution_count": 12,
   "id": "88a4b967-44cd-4544-94bc-3c4d7863e653",
   "metadata": {
    "tags": []
   },
   "outputs": [],
   "source": [
    "def binary(n):\n",
    "    if n>1:\n",
    "        # If 'n' is greater than 1, make a recursive call with 'n' divided by 2.\n",
    "        binary(n//2)\n",
    "    print(n%2,end='')       "
   ]
  },
  {
   "cell_type": "code",
   "execution_count": 13,
   "id": "ec72dbbc-2e3b-4b3f-9714-4ce0ff80291e",
   "metadata": {
    "tags": []
   },
   "outputs": [
    {
     "name": "stdout",
     "output_type": "stream",
     "text": [
      "0\n",
      "1\n",
      "11\n",
      "1001"
     ]
    }
   ],
   "source": [
    "binary(0)\n",
    "print()\n",
    "binary(1)\n",
    "print()\n",
    "binary(3)\n",
    "print()\n",
    "binary(9)"
   ]
  },
  {
   "cell_type": "markdown",
   "id": "1b6574b4-3d83-4144-a836-5cf0c073131d",
   "metadata": {},
   "source": [
    "# Question 6\n",
    "<font color=\"#FF0000\">\n",
    "    \n",
    "***\n",
    "Implement a class named HeadingParser that can be used to parse an HTML document, and retrieve and print all the headings in the document. You should implement your class as a subclass of HTMLParser, defined in Standard Library module html.parser. When fed a string containing HTML code, your class should print the headings, one per line and in the order in which they appear in the document. Each heading should be indented as follows: an h1 heading should have indentation 0, and h2 heading should have indentation 1, etc. Test your implementation using w3c.html.\n",
    "\n",
    "infile = open('w3c.html')   \n",
    "content = infile.read()   \n",
    "infile.close()   \n",
    "hp = HeadingParser()   \n",
    "hp.feed(content)   \n",
    "W3C Mission Principles   \n",
    "***\n",
    "    \n",
    "</font>\n"
   ]
  },
  {
   "cell_type": "code",
   "execution_count": 14,
   "id": "5cdf8fed-9dbb-4109-be28-2f88efbd3774",
   "metadata": {
    "tags": []
   },
   "outputs": [
    {
     "name": "stdout",
     "output_type": "stream",
     "text": [
      "W3C Mission\n",
      "Principles\n"
     ]
    }
   ],
   "source": [
    "from html.parser import HTMLParser\n",
    "\n",
    "# Define a custom parser class 'HeadingParser' that inherits from HTMLParser\n",
    "class HeadingParser(HTMLParser):\n",
    "    def __init__(self):\n",
    "        super().__init__()\n",
    "        self.in_heading = False    # Initialize a flag to track if we are inside a heading tag\n",
    "\n",
    "    # Method to handle the start of an HTML tag\n",
    "    def handle_starttag(self, tag, attrs):\n",
    "        # Check if the tag is a heading tag \n",
    "        if tag.startswith(\"h\") and tag[1:].isdigit():\n",
    "            self.in_heading = True    # Set the flag to True to indicate that we are inside a heading tag\n",
    "    \n",
    "    # Method to handle the end of an HTML tag\n",
    "    def handle_endtag(self, tag):\n",
    "        # Check if we are inside a heading tag and the current tag is a closing heading tag\n",
    "        if self.in_heading and tag.startswith(\"h\") and tag[1:].isdigit():\n",
    "            self.in_heading = False   # Set the flag to False to indicate that we are no longer inside a heading tag\n",
    "    \n",
    "    # Method to handle text data within HTML tags\n",
    "    def handle_data(self, data):\n",
    "        if self.in_heading:\n",
    "            print(data)     # Print the text data if we are inside a heading tag\n",
    "\n",
    "infile = open(r'D:\\Users\\manyue\\Downloads\\w3c.html')\n",
    "content = infile.read()\n",
    "infile.close()\n",
    "\n",
    "hp = HeadingParser()\n",
    "hp.feed(content)"
   ]
  },
  {
   "cell_type": "markdown",
   "id": "379cfc62-32b0-4a2a-bf49-aa56d508136c",
   "metadata": {},
   "source": [
    "# Question 7\n",
    "<font color=\"#FF0000\">\n",
    "    \n",
    "***\n",
    "Implement recursive function webdir() that takes as input:    \n",
    "a URL (as a string) and non-negative integers depth and indent.    \n",
    "Your function should visit every web page reachable from the starting URL web page in depth clicks or less, and print each web page's URL. \n",
    "As shown below, indentation, specified by indent, should be used to indicate the depth of a URL.\n",
    "\n",
    "webdir('http://reed.cs.depaul.edu/lperkovic/csc242/test1.html', 2, 0)\n",
    "***\n",
    "    \n",
    "</font>\n",
    "\n"
   ]
  },
  {
   "cell_type": "code",
   "execution_count": 15,
   "id": "e4e4ce0f-47fb-4710-85d3-8afce971618f",
   "metadata": {
    "tags": []
   },
   "outputs": [],
   "source": [
    "import requests\n",
    "from bs4 import BeautifulSoup\n",
    "\n",
    "def webdir(url, depth, indent=0):\n",
    "    if depth < 0:\n",
    "        return\n",
    "\n",
    "    try:\n",
    "        response = requests.get(url)\n",
    "        response.raise_for_status()\n",
    "        soup = BeautifulSoup(response.text, 'html.parser')\n",
    "        print(' ' * indent + url)\n",
    "\n",
    "        # Extract all anchor tags\n",
    "        if depth > 0: #for positive depth\n",
    "            links = soup.find_all('a') # Find and store all Anchor Tags into links\n",
    "            for link in links:\n",
    "                href = link.get('href') #retrive href value\n",
    "                if href and href.startswith('http'): #condition checking for http \n",
    "                    webdir(href, depth - 1, indent + 2)\n",
    "\n",
    "    except requests.exceptions.RequestException as e:\n",
    "        # Handle request exceptions, e.g., invalid URLs\n",
    "        print(\" \" * indent + f\"Error accessing {url}: {e}\")\n",
    "\n"
   ]
  },
  {
   "cell_type": "code",
   "execution_count": 16,
   "id": "25ad82b5-26ae-4b07-9a1c-52b79565a8c6",
   "metadata": {
    "tags": []
   },
   "outputs": [
    {
     "name": "stdout",
     "output_type": "stream",
     "text": [
      "Error accessing http://reed.cs.depaul.edu/lperkovic/csc242/test1.html: 404 Client Error:  for url: http://reed.cs.depaul.edu/lperkovic/csc242/test1.html\n"
     ]
    }
   ],
   "source": [
    "webdir('http://reed.cs.depaul.edu/lperkovic/csc242/test1.html', 2, 0)"
   ]
  },
  {
   "cell_type": "code",
   "execution_count": 17,
   "id": "23a9679f-d1db-4b39-b778-a7b3af16406f",
   "metadata": {
    "tags": []
   },
   "outputs": [
    {
     "name": "stdout",
     "output_type": "stream",
     "text": [
      "https://www.georgiancollege.ca/\n",
      "  Error accessing https://georgianatilac.com/: 403 Client Error: Forbidden for url: https://georgianatilac.com/\n",
      "  Error accessing https://portal.georgiancollege.ca: 403 Client Error: Forbidden for url: https://georgiancollege.sharepoint.com/sites/student/SitePages/Home.aspx\n",
      "  https://library.georgiancollege.ca/main\n",
      "    http://www.georgiancollege.ca/\n",
      "    http://library.georgiancollege.ca\n",
      "    http://library.georgiancollege.ca/hours\n",
      "    http://library.georgiancollege.ca/resources\n",
      "    https://georgian.primo.exlibrisgroup.com/discovery/search?vid=01OCLS_GEORG:GEORG\n",
      "    https://library.georgiancollege.ca/er.php\n",
      "    http://library.georgiancollege.ca/az.php\n",
      "    http://library.georgiancollege.ca/guides\n",
      "    http://library.georgiancollege.ca/video_streaming\n",
      "    http://library.georgiancollege.ca/services\n",
      "    https://library.georgiancollege.ca/services/atlibrary\n",
      "    https://bookings.georgiancollege.ca/portal/\n",
      "    https://library.georgiancollege.ca/services/printing\n",
      "    https://library.georgiancollege.ca/doingresearch\n",
      "    https://library.georgiancollege.ca/copyright-at-georgian\n",
      "    Error accessing https://library.georgiancollege.ca/interlibrary_loan : 404 Client Error: Not Found for url: https://library.georgiancollege.ca/interlibrary_loan%20\n",
      "    http://library.georgiancollege.ca/services/accessibility\n",
      "    http://library.georgiancollege.ca/staff_faculty\n",
      "    http://www.georgiancollege.ca/form/schedule-library-orientation/\n",
      "    http://library.georgiancollege.ca/staff_faculty/ereserves\n",
      "    http://library.georgiancollege.ca/oer\n",
      "    http://library.georgiancollege.ca/lakehead\n",
      "    http://library.georgiancollege.ca/services/alumni_community\n",
      "    http://library.georgiancollege.ca/help\n",
      "    http://library.georgiancollege.ca/writing_centre\n",
      "    http://library.georgiancollege.ca/tutoring\n",
      "    http://library.georgiancollege.ca/math_centre\n",
      "    http://library.georgiancollege.ca/citing\n",
      "    https://library.georgiancollege.ca/troubleshooting\n",
      "    https://library.georgiancollege.ca/faqs\n",
      "    https://library.georgiancollege.ca/troubleshooting\n",
      "    https://library.georgiancollege.ca/linking/stablelinks\n",
      "    https://library.georgiancollege.ca/ebookhelp\n",
      "    https://library.georgiancollege.ca/dboncampus\n",
      "    https://library.georgiancollege.ca/doingresearch\n",
      "    http://library.georgiancollege.ca/about\n",
      "    https://library.georgiancollege.ca/help/contact-academic-success\n",
      "    https://library.georgiancollege.ca/services/contact-library\n",
      "    http://library.georgiancollege.ca/about\n",
      "    http://library.georgiancollege.ca/about/policies\n",
      "    https://library.georgiancollege.ca/Staff-Directory\n",
      "    http://www.georgiancollege.ca\n",
      "    https://library.georgiancollege.ca/\n",
      "    https://library.georgiancollege.ca/welcome-online\n",
      "    https://library.georgiancollege.ca/hours\n",
      "    https://georgian.primo.exlibrisgroup.com/discovery/search?vid=01OCLS_GEORG:GEORG&mode=advanced\n",
      "    http://library.georgiancollege.ca/hours\n",
      "    https://library.georgiancollege.ca/citing\n",
      "    https://library.georgiancollege.ca/az.php\n",
      "    https://library.georgiancollege.ca/er.php?b=i\n",
      "    https://web.penjiapp.com/schools/georgian\n",
      "    https://georgiancollege.libwizard.com/f/submit-a-paper\n",
      "    https://library.georgiancollege.ca/writing_centre/LanguageHelp\n",
      "    https://library.georgiancollege.ca/writing_centre\n",
      "    https://web.penjiapp.com/schools/georgian\n",
      "    https://web.penjiapp.com/schools/georgian\n",
      "    https://library.georgiancollege.ca/tutoring\n",
      "    https://web.penjiapp.com/schools/georgian\n",
      "    https://library.georgiancollege.ca/math_centre/tools\n",
      "    https://library.georgiancollege.ca/math_centre\n",
      "    https://library.georgiancollege.ca/guides\n",
      "    https://library.georgiancollege.ca/doingresearch/intro\n",
      "    https://library.georgiancollege.ca/doingresearch/research-help\n",
      "    https://www.georgiancollege.ca\n",
      "    https://georgiancollege.libapps.com/libapps/login.php?site_id=351&target64=L2xpYmd1aWRlcy9hZG1pbl9jLnBocD9nPTcxNjUzMiZwPTUxMDkxNzA=\n",
      "  Error accessing https://portal.georgiancollege.ca: 403 Client Error: Forbidden for url: https://georgiancollege.sharepoint.com/sites/student/SitePages/Home.aspx\n",
      "  https://info.georgiancollege.ca/StillTimeToApply\n",
      "    https://www.georgiancollege.ca/future-students/\n",
      "    https://www.georgiancollege.ca/academics/programs/college-foundations/\n",
      "    https://www.georgiancollege.ca/academics/programs/college-foundations/\n",
      "    https://www.georgiancollege.ca/academics/programs/construction-techniques/\n",
      "    https://www.georgiancollege.ca/academics/programs/construction-techniques/\n",
      "    https://www.georgiancollege.ca/academics/programs/general-arts-science-liberal-studies-foundation/\n",
      "    https://www.georgiancollege.ca/academics/programs/general-arts-science-liberal-studies-foundation/\n",
      "    https://www.georgiancollege.ca/academics/programs/pre-health-sciences/\n",
      "    https://www.georgiancollege.ca/academics/programs/pre-health-sciences/\n",
      "    https://www.ontariocolleges.ca/en/colleges/georgian?q=&page=0&by%5BIntakeAvailabilityEnglish%5D%5B0%5D=Open&hFR%5BIntakeStartDateHierarchyMonthNameEnglish.lvl0%5D%5B0%5D=Aug%202023%20-%20Nov%202023%20%28Fall%29%7CSep%202023#programs\n",
      "    https://www.georgiancollege.ca/careermatch/#take-the-quiz\n",
      "    https://www.georgiancollege.ca/about-georgian/contact-us/student-recruitment-team/#resources\n",
      "    https://www.georgiancollege.ca/about-georgian/contact-us/student-recruitment-team/#resources\n",
      "    https://www.georgiancollege.ca/news-events/all-events/get-to-know-georgian/\n",
      "    https://www.georgiancollege.ca/news-events/all-events/get-to-know-georgian/\n",
      "    https://www.georgiancollege.ca/about-georgian/visit-us/campus-tours/\n",
      "    https://www.georgiancollege.ca/about-georgian/visit-us/campus-tours/\n",
      "    https://www.georgiancollege.ca/news-events/all-events/phone-appointments/\n",
      "    https://www.georgiancollege.ca/news-events/all-events/phone-appointments/\n",
      "    https://www.georgiancollege.ca/about-georgian/contact-us/mailing-list/\n",
      "    https://www.georgiancollege.ca/about-georgian/contact-us/mailing-list/\n",
      "    https://www.georgiancollege.ca/future-students/\n",
      "    https://www.georgiancollege.ca/privacy-policy/\n",
      "  https://info.georgiancollege.ca/StillTimeToApply\n",
      "    https://www.georgiancollege.ca/future-students/\n",
      "    https://www.georgiancollege.ca/academics/programs/college-foundations/\n",
      "    https://www.georgiancollege.ca/academics/programs/college-foundations/\n",
      "    https://www.georgiancollege.ca/academics/programs/construction-techniques/\n",
      "    https://www.georgiancollege.ca/academics/programs/construction-techniques/\n",
      "    https://www.georgiancollege.ca/academics/programs/general-arts-science-liberal-studies-foundation/\n",
      "    https://www.georgiancollege.ca/academics/programs/general-arts-science-liberal-studies-foundation/\n",
      "    https://www.georgiancollege.ca/academics/programs/pre-health-sciences/\n",
      "    https://www.georgiancollege.ca/academics/programs/pre-health-sciences/\n",
      "    https://www.ontariocolleges.ca/en/colleges/georgian?q=&page=0&by%5BIntakeAvailabilityEnglish%5D%5B0%5D=Open&hFR%5BIntakeStartDateHierarchyMonthNameEnglish.lvl0%5D%5B0%5D=Aug%202023%20-%20Nov%202023%20%28Fall%29%7CSep%202023#programs\n",
      "    https://www.georgiancollege.ca/careermatch/#take-the-quiz\n",
      "    https://www.georgiancollege.ca/about-georgian/contact-us/student-recruitment-team/#resources\n",
      "    https://www.georgiancollege.ca/about-georgian/contact-us/student-recruitment-team/#resources\n",
      "    https://www.georgiancollege.ca/news-events/all-events/get-to-know-georgian/\n",
      "    https://www.georgiancollege.ca/news-events/all-events/get-to-know-georgian/\n",
      "    https://www.georgiancollege.ca/about-georgian/visit-us/campus-tours/\n",
      "    https://www.georgiancollege.ca/about-georgian/visit-us/campus-tours/\n",
      "    https://www.georgiancollege.ca/news-events/all-events/phone-appointments/\n",
      "    https://www.georgiancollege.ca/news-events/all-events/phone-appointments/\n",
      "    https://www.georgiancollege.ca/about-georgian/contact-us/mailing-list/\n",
      "    https://www.georgiancollege.ca/about-georgian/contact-us/mailing-list/\n",
      "    https://www.georgiancollege.ca/future-students/\n",
      "    https://www.georgiancollege.ca/privacy-policy/\n",
      "  http://georgiancollege.uberflip.com/i/1504196-georgian-college-viewbook-2024-2025/\n",
      "    http://georgiancollege.uberflip.com/i/1504196\n",
      "    http://georgiancollege.uberflip.com/i/1504196/1\n",
      "    http://georgiancollege.uberflip.com/i/1504196/95\n",
      "    http://georgiancollege.uberflip.com/i/1504196/0\n",
      "    http://georgiancollege.uberflip.com/read/archives/i/66486/1504196\n",
      "  http://georgiancollege.uberflip.com/i/1504196-georgian-college-viewbook-2024-2025/\n",
      "    http://georgiancollege.uberflip.com/i/1504196\n",
      "    http://georgiancollege.uberflip.com/i/1504196/1\n",
      "    http://georgiancollege.uberflip.com/i/1504196/95\n",
      "    http://georgiancollege.uberflip.com/i/1504196/0\n",
      "    http://georgiancollege.uberflip.com/read/archives/i/66486/1504196\n",
      "  Error accessing https://georgiancollege.sharepoint.com/sites/gcPortal/SitePages/Home.aspx: 403 Client Error: Forbidden for url: https://georgiancollege.sharepoint.com/sites/gcPortal/SitePages/Home.aspx\n",
      "  Error accessing https://twitter.com/georgiancollege: 400 Client Error: Bad Request for url: https://twitter.com/georgiancollege\n",
      "  https://www.facebook.com/GeorgianCollege\n",
      "  http://www.youtube.com/georgianvideos\n",
      "    https://www.youtube.com/about/\n",
      "    https://www.youtube.com/about/press/\n",
      "    https://www.youtube.com/about/copyright/\n",
      "    https://www.youtube.com/creators/\n",
      "    https://www.youtube.com/ads/\n",
      "    https://developers.google.com/youtube\n",
      "    https://www.youtube.com/about/policies/\n",
      "    https://www.youtube.com/howyoutubeworks?utm_campaign=ytgen&utm_source=ythp&utm_medium=LeftNav&utm_content=txt&u=https%3A%2F%2Fwww.youtube.com%2Fhowyoutubeworks%3Futm_source%3Dythp%26utm_medium%3DLeftNav%26utm_campaign%3Dytgen\n",
      "  http://instagram.com/georgiancollege\n",
      "  https://www.linkedin.com/school/2409/\n"
     ]
    }
   ],
   "source": [
    "webdir('https://www.georgiancollege.ca/', 2, 0)"
   ]
  },
  {
   "cell_type": "markdown",
   "id": "ee25cd9e-6829-43d6-b430-83386e7cc246",
   "metadata": {},
   "source": [
    "# Question 8\n",
    "<font color=\"#FF0000\">\n",
    "    \n",
    "***\n",
    "Write SQL queries on the below database table that return:\n",
    "\n",
    "a) All the temperature data.\n",
    "\n",
    "b) All the cities, but without repetition.\n",
    "\n",
    "c) All the records for India.\n",
    "\n",
    "d) All the Fall records.\n",
    "\n",
    "e) The city, country, and season for which the average rainfall is between 200 and 400 millimeters.\n",
    "\n",
    "f) The city and country for which the average Fall temperature is above 20 degrees, in increasing temperature order.\n",
    "\n",
    "g) The total annual rainfall for Cairo.\n",
    "\n",
    "h) The total rainfall for each season.City Country Season Temperature(C) Rainfall (mm)\n",
    "***\n",
    "    \n",
    "</font>\n"
   ]
  },
  {
   "cell_type": "code",
   "execution_count": 18,
   "id": "ef60cd73-cb4a-4387-bc3c-310d569cb4f6",
   "metadata": {
    "tags": []
   },
   "outputs": [],
   "source": [
    "%load_ext sql\n",
    "%sql sqlite://"
   ]
  },
  {
   "cell_type": "code",
   "execution_count": 19,
   "id": "ea1180bd-7df3-4aec-bdd2-7afd3cb02475",
   "metadata": {
    "tags": []
   },
   "outputs": [
    {
     "name": "stdout",
     "output_type": "stream",
     "text": [
      " * sqlite://\n",
      "Done.\n"
     ]
    },
    {
     "data": {
      "text/plain": [
       "[]"
      ]
     },
     "execution_count": 19,
     "metadata": {},
     "output_type": "execute_result"
    }
   ],
   "source": [
    "%%sql \n",
    "CREATE TABLE IF NOT EXISTS weather (\n",
    "    City TEXT,\n",
    "    Country TEXT,\n",
    "    Season TEXT,\n",
    "    Temperature REAL,\n",
    "    Rainfall REAL\n",
    ");"
   ]
  },
  {
   "cell_type": "code",
   "execution_count": 20,
   "id": "5d807771-ef62-45fc-b9d4-607a871584d4",
   "metadata": {
    "tags": []
   },
   "outputs": [
    {
     "name": "stdout",
     "output_type": "stream",
     "text": [
      " * sqlite://\n",
      "12 rows affected.\n"
     ]
    },
    {
     "data": {
      "text/plain": [
       "[]"
      ]
     },
     "execution_count": 20,
     "metadata": {},
     "output_type": "execute_result"
    }
   ],
   "source": [
    "%%sql\n",
    "INSERT INTO weather (City, Country, Season, Temperature, Rainfall)\n",
    "VALUES\n",
    "    ('Mumbai', 'India', 'Winter', 24.8, 5.9),\n",
    "    ('Mumbai', 'India', 'Spring', 28.4, 16.2),\n",
    "    ('Mumbai', 'India', 'Summer', 27.9, 1549.4),\n",
    "    ('Mumbai', 'India', 'Fall', 27.6, 346.0),\n",
    "    ('London', 'United Kingdom', 'Winter', 4.2, 207.7),\n",
    "    ('London', 'United Kingdom', 'Spring', 8.3, 169.6),\n",
    "    ('London', 'United Kingdom', 'Summer', 15.7, 157.0),\n",
    "    ('London', 'United Kingdom', 'Fall', 10.4, 218.5),\n",
    "    ('Cairo', 'Egypt', 'Winter', 13.6, 16.5),\n",
    "    ('Cairo', 'Egypt', 'Spring', 20.7, 6.5),\n",
    "    ('Cairo', 'Egypt', 'Summer', 27.7, 0.1),\n",
    "    ('Cairo', 'Egypt', 'Fall', 22.2, 4.5);"
   ]
  },
  {
   "cell_type": "code",
   "execution_count": 21,
   "id": "eb17b53a-188d-4f3e-8c45-9ccc3662822a",
   "metadata": {
    "tags": []
   },
   "outputs": [
    {
     "name": "stdout",
     "output_type": "stream",
     "text": [
      " * sqlite://\n",
      "Done.\n"
     ]
    },
    {
     "data": {
      "text/html": [
       "<table>\n",
       "    <thead>\n",
       "        <tr>\n",
       "            <th>City</th>\n",
       "            <th>Country</th>\n",
       "            <th>Season</th>\n",
       "            <th>Temperature</th>\n",
       "            <th>Rainfall</th>\n",
       "        </tr>\n",
       "    </thead>\n",
       "    <tbody>\n",
       "        <tr>\n",
       "            <td>Mumbai</td>\n",
       "            <td>India</td>\n",
       "            <td>Winter</td>\n",
       "            <td>24.8</td>\n",
       "            <td>5.9</td>\n",
       "        </tr>\n",
       "        <tr>\n",
       "            <td>Mumbai</td>\n",
       "            <td>India</td>\n",
       "            <td>Spring</td>\n",
       "            <td>28.4</td>\n",
       "            <td>16.2</td>\n",
       "        </tr>\n",
       "        <tr>\n",
       "            <td>Mumbai</td>\n",
       "            <td>India</td>\n",
       "            <td>Summer</td>\n",
       "            <td>27.9</td>\n",
       "            <td>1549.4</td>\n",
       "        </tr>\n",
       "        <tr>\n",
       "            <td>Mumbai</td>\n",
       "            <td>India</td>\n",
       "            <td>Fall</td>\n",
       "            <td>27.6</td>\n",
       "            <td>346.0</td>\n",
       "        </tr>\n",
       "        <tr>\n",
       "            <td>London</td>\n",
       "            <td>United Kingdom</td>\n",
       "            <td>Winter</td>\n",
       "            <td>4.2</td>\n",
       "            <td>207.7</td>\n",
       "        </tr>\n",
       "    </tbody>\n",
       "</table>"
      ],
      "text/plain": [
       "[('Mumbai', 'India', 'Winter', 24.8, 5.9),\n",
       " ('Mumbai', 'India', 'Spring', 28.4, 16.2),\n",
       " ('Mumbai', 'India', 'Summer', 27.9, 1549.4),\n",
       " ('Mumbai', 'India', 'Fall', 27.6, 346.0),\n",
       " ('London', 'United Kingdom', 'Winter', 4.2, 207.7)]"
      ]
     },
     "execution_count": 21,
     "metadata": {},
     "output_type": "execute_result"
    }
   ],
   "source": [
    "%%sql\n",
    "SELECT * FROM weather limit 5 "
   ]
  },
  {
   "cell_type": "code",
   "execution_count": 22,
   "id": "73226021-b0cb-46d3-a69c-f6ce58e6ff08",
   "metadata": {
    "tags": []
   },
   "outputs": [
    {
     "name": "stdout",
     "output_type": "stream",
     "text": [
      "Temperature Data Information\n",
      " * sqlite://\n",
      "Done.\n",
      "+-------------+\n",
      "| Temperature |\n",
      "+-------------+\n",
      "|     24.8    |\n",
      "|     28.4    |\n",
      "|     27.9    |\n",
      "|     27.6    |\n",
      "|     4.2     |\n",
      "|     8.3     |\n",
      "|     15.7    |\n",
      "|     10.4    |\n",
      "|     13.6    |\n",
      "|     20.7    |\n",
      "|     27.7    |\n",
      "|     22.2    |\n",
      "+-------------+\n"
     ]
    }
   ],
   "source": [
    "# a) All the temperature data.\n",
    "print(\"Temperature Data Information\")\n",
    "Temperature = %sql SELECT Temperature FROM weather\n",
    "print(Temperature)"
   ]
  },
  {
   "cell_type": "code",
   "execution_count": 23,
   "id": "b11d56bb-2c7c-4c1d-9fc3-484d30900c59",
   "metadata": {
    "tags": []
   },
   "outputs": [
    {
     "name": "stdout",
     "output_type": "stream",
     "text": [
      "Information of All the Cities without repetition\n",
      " * sqlite://\n",
      "Done.\n",
      "+--------+\n",
      "|  City  |\n",
      "+--------+\n",
      "| Mumbai |\n",
      "| London |\n",
      "| Cairo  |\n",
      "+--------+\n"
     ]
    }
   ],
   "source": [
    "# b) All the cities, but without repetition.\n",
    "print(\"Information of All the Cities without repetition\")\n",
    "City = %sql SELECT DISTINCT City FROM weather\n",
    "print(City)"
   ]
  },
  {
   "cell_type": "code",
   "execution_count": 24,
   "id": "8cb5174d-fd74-402b-9a21-9cf6a1e15cf9",
   "metadata": {
    "tags": []
   },
   "outputs": [
    {
     "name": "stdout",
     "output_type": "stream",
     "text": [
      "Information of India\n",
      " * sqlite://\n",
      "Done.\n",
      "+--------+---------+--------+-------------+----------+\n",
      "|  City  | Country | Season | Temperature | Rainfall |\n",
      "+--------+---------+--------+-------------+----------+\n",
      "| Mumbai |  India  | Winter |     24.8    |   5.9    |\n",
      "| Mumbai |  India  | Spring |     28.4    |   16.2   |\n",
      "| Mumbai |  India  | Summer |     27.9    |  1549.4  |\n",
      "| Mumbai |  India  |  Fall  |     27.6    |  346.0   |\n",
      "+--------+---------+--------+-------------+----------+\n"
     ]
    }
   ],
   "source": [
    "# c) All the records for India.\n",
    "print(\"Information of India\")\n",
    "India_Details = %sql SELECT * FROM weather WHERE Country = 'India'\n",
    "print(India_Details)"
   ]
  },
  {
   "cell_type": "code",
   "execution_count": 25,
   "id": "1e1f4e0b-ea77-4e0c-8dbd-aaa4d9e91383",
   "metadata": {
    "tags": []
   },
   "outputs": [
    {
     "name": "stdout",
     "output_type": "stream",
     "text": [
      "Information of Fall\n",
      " * sqlite://\n",
      "Done.\n",
      "+--------+----------------+--------+-------------+----------+\n",
      "|  City  |    Country     | Season | Temperature | Rainfall |\n",
      "+--------+----------------+--------+-------------+----------+\n",
      "| Mumbai |     India      |  Fall  |     27.6    |  346.0   |\n",
      "| London | United Kingdom |  Fall  |     10.4    |  218.5   |\n",
      "| Cairo  |     Egypt      |  Fall  |     22.2    |   4.5    |\n",
      "+--------+----------------+--------+-------------+----------+\n"
     ]
    }
   ],
   "source": [
    "# d) All the Fall records\n",
    "print(\"Information of Fall\")\n",
    "Fall_Season_Info = %sql SELECT * FROM weather WHERE Season = 'Fall'\n",
    "print(Fall_Season_Info)"
   ]
  },
  {
   "cell_type": "code",
   "execution_count": 26,
   "id": "53d79ed7-0ec9-4bc2-b697-9d1004aa11e5",
   "metadata": {
    "tags": []
   },
   "outputs": [
    {
     "name": "stdout",
     "output_type": "stream",
     "text": [
      "The city, country, and season for which the average rainfall is between 200 and 400 millimeters\n",
      " * sqlite://\n",
      "Done.\n",
      "+--------+----------------+--------+\n",
      "|  City  |    Country     | Season |\n",
      "+--------+----------------+--------+\n",
      "| London | United Kingdom |  Fall  |\n",
      "| London | United Kingdom | Winter |\n",
      "| Mumbai |     India      |  Fall  |\n",
      "+--------+----------------+--------+\n"
     ]
    }
   ],
   "source": [
    "# e) The city, country, and season for which the average rainfall is between 200 and 400 millimeters.\n",
    "print(\"The city, country, and season for which the average rainfall is between 200 and 400 millimeters\")\n",
    "Avg_RainFall = %sql SELECT City, Country, Season FROM weather GROUP BY City, Country, Season HAVING AVG(Rainfall) BETWEEN 200 AND 400\n",
    "print(Avg_RainFall)"
   ]
  },
  {
   "cell_type": "code",
   "execution_count": 27,
   "id": "571ae6dd-89ca-4fe0-904a-1ed0b3d7152c",
   "metadata": {
    "tags": []
   },
   "outputs": [
    {
     "name": "stdout",
     "output_type": "stream",
     "text": [
      " The city and country for which the average Fall temperature is above 20 degrees, in increasing temperature order\n",
      " * sqlite://\n",
      "Done.\n",
      "+--------+----------------+--------+\n",
      "|  City  |    Country     | Season |\n",
      "+--------+----------------+--------+\n",
      "| London | United Kingdom |  Fall  |\n",
      "| London | United Kingdom | Winter |\n",
      "| Mumbai |     India      |  Fall  |\n",
      "+--------+----------------+--------+\n"
     ]
    }
   ],
   "source": [
    "# f) The city and country for which the average Fall temperature is above 20 degrees, in increasing temperature order.\n",
    "print(\" The city and country for which the average Fall temperature is above 20 degrees, in increasing temperature order\")\n",
    "Avg_Temprature = %sql SELECT City, Country, Season FROM weather GROUP BY City, Country, Season HAVING AVG(Rainfall) BETWEEN 200 AND 400\n",
    "print(Avg_Temprature)"
   ]
  },
  {
   "cell_type": "code",
   "execution_count": 28,
   "id": "9b896f4d-3d6c-47ec-b3aa-65a20fdb184f",
   "metadata": {
    "tags": []
   },
   "outputs": [
    {
     "name": "stdout",
     "output_type": "stream",
     "text": [
      "The total annual rainfall for Cairo\n",
      " * sqlite://\n",
      "Done.\n",
      "+-------+-----------------------+\n",
      "|  City | Total_Annual_Rainfall |\n",
      "+-------+-----------------------+\n",
      "| Cairo |          27.6         |\n",
      "+-------+-----------------------+\n"
     ]
    }
   ],
   "source": [
    "# g) The total annual rainfall for Cairo.\n",
    "print(\"The total annual rainfall for Cairo\")\n",
    "Annual_Rainfall = %sql SELECT City, SUM(Rainfall) AS Total_Annual_Rainfall FROM weather WHERE City = 'Cairo' GROUP BY City\n",
    "print(Annual_Rainfall)\n"
   ]
  },
  {
   "cell_type": "code",
   "execution_count": 29,
   "id": "4dccd71c-ce83-4ca2-b28c-0f195c09e177",
   "metadata": {
    "tags": []
   },
   "outputs": [
    {
     "name": "stdout",
     "output_type": "stream",
     "text": [
      "The total rainfall for each season\n",
      " * sqlite://\n",
      "Done.\n",
      "+--------+--------------------+\n",
      "| Season |   Total_Rainfall   |\n",
      "+--------+--------------------+\n",
      "|  Fall  |       569.0        |\n",
      "| Spring | 192.29999999999998 |\n",
      "| Summer |       1706.5       |\n",
      "| Winter |       230.1        |\n",
      "+--------+--------------------+\n"
     ]
    }
   ],
   "source": [
    "# h) The total rainfall for each season.\n",
    "print(\"The total rainfall for each season\")\n",
    "Total_Rainfall = %sql SELECT Season, SUM(Rainfall) AS Total_Rainfall FROM weather GROUP BY Season\n",
    "print(Total_Rainfall)"
   ]
  },
  {
   "cell_type": "markdown",
   "id": "efaf237b-7bcc-4087-be7d-4d217659f79d",
   "metadata": {},
   "source": [
    "# Question 9\n",
    "<font color=\"#FF0000\">\n",
    "    \n",
    "***\n",
    "Suppose list words is defined as follows:\n",
    "\n",
    " words = ['The', 'quick', 'brown', 'fox', 'jumps', 'over', 'the', 'lazy', 'dog']\n",
    "Write list comprehension expressions that use list words and generate the following lists:\n",
    "\n",
    "a) ['THE', 'QUICK', 'BROWN', 'FOX', 'JUMPS', 'OVER', 'THE', 'LAZY', 'DOG']\n",
    "\n",
    "b) ['the', 'quick', 'brown', 'fox', 'jumps', 'over', 'the', 'lazy', 'dog']\n",
    "\n",
    "c) [3, 5, 5, 3, 5, 4, 3, 4, 3] (the list of lengths of words in list words).\n",
    "\n",
    "d) [['THE', 'the', 3], ['QUICK', 'quick', 5], ['BROWN','brown', 5], ['FOX', 'fox', 3], ['JUMPS', 'jumps', 5], ['OVER', 'over', 4], ['THE', 'the', 3], ['LAZY', 'lazy', 4], ['DOG', 'dog', 3]] (the list containing a list for every word of list words, where each list contains the word in uppercase and lowercase and the length of the word.)\n",
    "\n",
    "e) ['The', 'quick', 'brown', 'fox', 'jumps', 'over', 'the', 'lazy', 'dog'] (the list of words in list words containing 4 or more characters.)\n",
    "\n",
    "***\n",
    "    \n",
    "</font>\n"
   ]
  },
  {
   "cell_type": "code",
   "execution_count": 31,
   "id": "d482af73-c8c9-40a9-9c89-dc67cd2d581b",
   "metadata": {
    "tags": []
   },
   "outputs": [
    {
     "name": "stdout",
     "output_type": "stream",
     "text": [
      "Upper-Case\n",
      "['THE', 'QUICK', 'BROWN', 'FOX', 'JUMPS', 'OVER', 'THE', 'LAZY', 'DOG']\n",
      "Lower-Case\n",
      "['the', 'quick', 'brown', 'fox', 'jumps', 'over', 'the', 'lazy', 'dog']\n",
      "Length\n",
      "[3, 5, 5, 3, 5, 4, 3, 4, 3]\n",
      "Information\n",
      "[['THE', 'the', 3], ['QUICK', 'quick', 5], ['BROWN', 'brown', 5], ['FOX', 'fox', 3], ['JUMPS', 'jumps', 5], ['OVER', 'over', 4], ['THE', 'the', 3], ['LAZY', 'lazy', 4], ['DOG', 'dog', 3]]\n",
      "More-Characters\n",
      "['quick', 'brown', 'jumps', 'over', 'lazy']\n"
     ]
    }
   ],
   "source": [
    "words = ['The', 'quick', 'brown', 'fox', 'jumps', 'over', 'the', 'lazy', 'dog']\n",
    "\n",
    "#Words in Uppercase\n",
    "Uppercase_Words = [word.upper() for word in words]\n",
    "\n",
    "#Words in Lowercase\n",
    "Lowercase_Words = [word.lower() for word in words]\n",
    "\n",
    "#Length of words\n",
    "Length = [len(word) for word in words]\n",
    "\n",
    "#List of information with Uppercase, Lowercase and Word Length\n",
    "Word_Information = [[word.upper(), word.lower(), len(word)] for word in words]\n",
    "\n",
    "#Words with 4 or more characters\n",
    "Long_Words = [word for word in words if len(word) >= 4]\n",
    "\n",
    "print(\"Upper-Case\")\n",
    "print(Uppercase_Words)\n",
    "print(\"Lower-Case\")\n",
    "print(Lowercase_Words)\n",
    "print(\"Length\")\n",
    "print(Length)\n",
    "print(\"Information\")\n",
    "print(Word_Information)\n",
    "print(\"More-Characters\")\n",
    "print(Long_Words)"
   ]
  },
  {
   "cell_type": "code",
   "execution_count": null,
   "id": "a654f428-bd85-4cbf-8552-0155b44ebbdf",
   "metadata": {},
   "outputs": [],
   "source": []
  }
 ],
 "metadata": {
  "kernelspec": {
   "display_name": "Python 3 (ipykernel)",
   "language": "python",
   "name": "python3"
  },
  "language_info": {
   "codemirror_mode": {
    "name": "ipython",
    "version": 3
   },
   "file_extension": ".py",
   "mimetype": "text/x-python",
   "name": "python",
   "nbconvert_exporter": "python",
   "pygments_lexer": "ipython3",
   "version": "3.11.5"
  }
 },
 "nbformat": 4,
 "nbformat_minor": 5
}
